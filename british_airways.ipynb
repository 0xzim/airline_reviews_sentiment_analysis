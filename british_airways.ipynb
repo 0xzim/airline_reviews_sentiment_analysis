{
 "cells": [
  {
   "cell_type": "code",
   "execution_count": 1,
   "id": "659c924f-27fc-43d9-a9e7-6a1cee772608",
   "metadata": {},
   "outputs": [],
   "source": [
    "import pandas as pd\n",
    "from bs4 import BeautifulSoup\n",
    "import requests"
   ]
  },
  {
   "cell_type": "markdown",
   "id": "19c22761",
   "metadata": {},
   "source": [
    "### Web Scraping from [Skytrax](https://www.airlinequality.com/airline-reviews/british-airways/page/1/)"
   ]
  },
  {
   "cell_type": "code",
   "execution_count": 69,
   "id": "7f89c4ce",
   "metadata": {},
   "outputs": [],
   "source": [
    "def get_sibling(arr, tag, class_name):\n",
    "    try:\n",
    "        tag_label = arr.find(tag, class_=class_name)\n",
    "        value = tag_label.find_next_sibling(tag).text.strip()\n",
    "        return value\n",
    "    except AttributeError:\n",
    "        return \"null\""
   ]
  },
  {
   "cell_type": "code",
   "execution_count": 70,
   "id": "090189c8",
   "metadata": {},
   "outputs": [],
   "source": [
    "def get_stars(arr, tag, class_name, tag2, class_name2):\n",
    "    try:\n",
    "        tag_label = arr.find(tag, class_=class_name)\n",
    "        value = tag_label.find_next_sibling(tag)\n",
    "\n",
    "        value2 = value.find_all(tag2, class_=class_name2)\n",
    "        return len(value2)\n",
    "    except AttributeError:\n",
    "        return \"null\""
   ]
  },
  {
   "cell_type": "code",
   "execution_count": 71,
   "id": "dbcea3b5",
   "metadata": {},
   "outputs": [],
   "source": [
    "url = \"https://www.airlinequality.com/airline-reviews/british-airways/page/\"\n",
    "page = 1\n",
    "reviews_data = []\n",
    "\n",
    "while True:\n",
    "    response = requests.get(url+str(page))\n",
    "\n",
    "    if response.status_code != 200:\n",
    "        break\n",
    "\n",
    "    soup = BeautifulSoup(response.content, \"html.parser\")\n",
    "\n",
    "    reviews = soup.find_all(\"div\", class_=\"body\")\n",
    "\n",
    "    if not reviews:\n",
    "        break\n",
    "\n",
    "    for review in reviews:\n",
    "        title = review.find(\"h2\", class_=\"text_header\").text.strip()\n",
    "        subtitle = review.find(\"h3\", class_=\"text_sub_header\").text.strip()\n",
    "        content = review.find(\"div\", class_=\"text_content\").text.strip()\n",
    "\n",
    "        seat_type = get_sibling(review, \"td\", \"review-rating-header cabin_flown\")\n",
    "        aircraft = get_sibling(review, \"td\", \"review-rating-header aircraft\")\n",
    "        type_of_traveller = get_sibling(review, \"td\", \"review-rating-header type_of_traveller\")\n",
    "        route = get_sibling(review, \"td\", \"review-rating-header route\")\n",
    "        recommendation = get_sibling(review, \"td\", \"review-rating-header recommended\")\n",
    "        date_flown = get_sibling(review, \"td\", \"review-rating-header date_flown\")\n",
    "\n",
    "\n",
    "        seat_comfort = get_stars(review, \"td\", \"review-rating-header seat_comfort\", \"span\", \"star fill\")\n",
    "        cabin_staff_service = get_stars(review, \"td\", \"review-rating-header cabin_staff_service\", \"span\", \"star fill\")\n",
    "        food_and_beverage = get_stars(review, \"td\", \"review-rating-header food_and_beverage\", \"span\", \"star fill\")\n",
    "        value_for_money = get_stars(review, \"td\", \"review-rating-header value_for_money\", \"span\", \"star fill\")\n",
    "        inflight_entertainment = get_stars(review, \"td\", \"review-rating-header inflight_entertainment\", \"span\", \"star fill\")\n",
    "        ground_service = get_stars(review, \"td\", \"review-rating-header ground_service\", \"span\", \"star fill\")\n",
    "        wifi_and_connectivity = get_stars(review, \"td\", \"review-rating-header wifi_and_connectivity\", \"span\", \"star fill\")\n",
    "\n",
    "\n",
    "        reviews_data.append(\n",
    "            {\n",
    "                \"Title\": title,\n",
    "                \"Subtitle\": subtitle,\n",
    "                \"Content\": content,\n",
    "                \"Seat Type\": seat_type,\n",
    "                \"Aircraft\": aircraft,\n",
    "                \"Type of Traveller\": type_of_traveller,\n",
    "                \"Route\": route,\n",
    "                \"Recommendation\": recommendation,\n",
    "                \"Date Flown\": date_flown,\n",
    "                \"Seat Comfort\": seat_comfort,\n",
    "                \"Cabin Staff Service\": cabin_staff_service,\n",
    "                \"Food and Beverage\": food_and_beverage,\n",
    "                \"Value for Money\": value_for_money,\n",
    "                \"Inflight Entertainment\": inflight_entertainment,\n",
    "                \"Ground Service\": ground_service,\n",
    "                \"Wifi and Connectivity\": wifi_and_connectivity\n",
    "            }\n",
    "        )\n",
    "\n",
    "    page+= 1"
   ]
  },
  {
   "cell_type": "code",
   "execution_count": 84,
   "id": "cf749b0b",
   "metadata": {},
   "outputs": [],
   "source": [
    "data = pd.DataFrame(reviews_data)\n"
   ]
  },
  {
   "cell_type": "code",
   "execution_count": 85,
   "id": "1c7cbfe8",
   "metadata": {},
   "outputs": [],
   "source": [
    "data.to_csv(\"british_airways_reviews.csv\", index=False, encoding=\"utf-8-sig\")"
   ]
  },
  {
   "cell_type": "code",
   "execution_count": 2,
   "id": "6b40f7b8",
   "metadata": {},
   "outputs": [],
   "source": [
    "df = pd.read_csv(\"british_airways_reviews.csv\", encoding=\"utf-8-sig\")\n"
   ]
  },
  {
   "cell_type": "code",
   "execution_count": 202,
   "id": "1d3b5c60",
   "metadata": {},
   "outputs": [
    {
     "data": {
      "text/html": [
       "<div>\n",
       "<style scoped>\n",
       "    .dataframe tbody tr th:only-of-type {\n",
       "        vertical-align: middle;\n",
       "    }\n",
       "\n",
       "    .dataframe tbody tr th {\n",
       "        vertical-align: top;\n",
       "    }\n",
       "\n",
       "    .dataframe thead th {\n",
       "        text-align: right;\n",
       "    }\n",
       "</style>\n",
       "<table border=\"1\" class=\"dataframe\">\n",
       "  <thead>\n",
       "    <tr style=\"text-align: right;\">\n",
       "      <th></th>\n",
       "      <th>Title</th>\n",
       "      <th>Subtitle</th>\n",
       "      <th>Content</th>\n",
       "      <th>Seat Type</th>\n",
       "      <th>Aircraft</th>\n",
       "      <th>Type of Traveller</th>\n",
       "      <th>Route</th>\n",
       "      <th>Recommendation</th>\n",
       "      <th>Date Flown</th>\n",
       "      <th>Seat Comfort</th>\n",
       "      <th>Cabin Staff Service</th>\n",
       "      <th>Food and Beverage</th>\n",
       "      <th>Value for Money</th>\n",
       "      <th>Inflight Entertainment</th>\n",
       "      <th>Ground Service</th>\n",
       "      <th>Wifi and Connectivity</th>\n",
       "    </tr>\n",
       "  </thead>\n",
       "  <tbody>\n",
       "    <tr>\n",
       "      <th>0</th>\n",
       "      <td>“Horrendous Service”</td>\n",
       "      <td>R Heale (South Africa) 29th April 2025</td>\n",
       "      <td>✅ Trip Verified |   I had an appalling experie...</td>\n",
       "      <td>Economy Class</td>\n",
       "      <td>A380</td>\n",
       "      <td>Solo Leisure</td>\n",
       "      <td>Johannesburg to London Heathrow</td>\n",
       "      <td>no</td>\n",
       "      <td>April 2025</td>\n",
       "      <td>1.0</td>\n",
       "      <td>1.0</td>\n",
       "      <td>NaN</td>\n",
       "      <td>1</td>\n",
       "      <td>NaN</td>\n",
       "      <td>1.0</td>\n",
       "      <td>NaN</td>\n",
       "    </tr>\n",
       "  </tbody>\n",
       "</table>\n",
       "</div>"
      ],
      "text/plain": [
       "                  Title                                Subtitle  \\\n",
       "0  “Horrendous Service”  R Heale (South Africa) 29th April 2025   \n",
       "\n",
       "                                             Content      Seat Type Aircraft  \\\n",
       "0  ✅ Trip Verified |   I had an appalling experie...  Economy Class     A380   \n",
       "\n",
       "  Type of Traveller                            Route Recommendation  \\\n",
       "0      Solo Leisure  Johannesburg to London Heathrow             no   \n",
       "\n",
       "   Date Flown  Seat Comfort  Cabin Staff Service  Food and Beverage  \\\n",
       "0  April 2025           1.0                  1.0                NaN   \n",
       "\n",
       "   Value for Money  Inflight Entertainment  Ground Service  \\\n",
       "0                1                     NaN             1.0   \n",
       "\n",
       "   Wifi and Connectivity  \n",
       "0                    NaN  "
      ]
     },
     "execution_count": 202,
     "metadata": {},
     "output_type": "execute_result"
    }
   ],
   "source": [
    "df.head(1)"
   ]
  },
  {
   "cell_type": "markdown",
   "id": "4d07acb9",
   "metadata": {},
   "source": [
    "### Data Cleaning and Transformation steps.\n",
    "1. Remove the quotes in the title\n",
    "2. Split the subtitle into author, location, date posted\n",
    "3. Split the content to trip verified and review\n",
    "4. Remove the emoji from trip verified\n",
    "5. Remove the leading review count attached to the author name\n",
    "6. SOme main reviews are in the trip_verified column: move them to the review column\n",
    "\n",
    "\n",
    "\n",
    "#### Data Dictionary after cleaning\n",
    "1. Title: Title of review\n",
    "2. Author: Author of review\n",
    "3. Location: Country of reviewer\n",
    "4. Date Posted: Date the review was posted\n",
    "5. Trip Verified: Checks if the trip was verified\n",
    "6. Review: Content of the review\n",
    "7. Seat type\n",
    "8. Aircraft\n",
    "9. Type of traveller\n",
    "10. Recommendation: Checks whether the reviewer recommends flights with the airline\n",
    "11. Route: Departure and Arrival destination\n",
    "12. Date Flown\n",
    "13. Ratings(1 - 5)(If empty, it was not provided by the reviewer): Seat Comfort, Cabin Staff Service, Food and Beverage, Value for Money, Inflight Entertainment, Ground Service, Wifi and Connectivity."
   ]
  },
  {
   "cell_type": "code",
   "execution_count": 172,
   "id": "570d66f8",
   "metadata": {},
   "outputs": [],
   "source": [
    "clean_df = df.copy()"
   ]
  },
  {
   "cell_type": "code",
   "execution_count": 173,
   "id": "7c20e877",
   "metadata": {},
   "outputs": [
    {
     "data": {
      "text/plain": [
       "Title                        0\n",
       "Subtitle                     0\n",
       "Content                      0\n",
       "Seat Type                    1\n",
       "Aircraft                  1882\n",
       "Type of Traveller          771\n",
       "Route                      776\n",
       "Recommendation               0\n",
       "Date Flown                 778\n",
       "Seat Comfort               127\n",
       "Cabin Staff Service        142\n",
       "Food and Beverage         3937\n",
       "Value for Money              0\n",
       "Inflight Entertainment    1251\n",
       "Ground Service             850\n",
       "Wifi and Connectivity     3243\n",
       "dtype: int64"
      ]
     },
     "execution_count": 173,
     "metadata": {},
     "output_type": "execute_result"
    }
   ],
   "source": [
    "clean_df.isna().sum()"
   ]
  },
  {
   "cell_type": "code",
   "execution_count": 174,
   "id": "f1cb0d98",
   "metadata": {},
   "outputs": [],
   "source": [
    "# Remove the \"\" characters from the Title column and replace them with empty strings\n",
    "clean_df['Title'] = clean_df['Title'].replace(r'[\\\"“”‘’\\']', \"\", regex=True)"
   ]
  },
  {
   "cell_type": "code",
   "execution_count": 175,
   "id": "d8a0651b",
   "metadata": {},
   "outputs": [],
   "source": [
    "# Extract the author, location, and date from the Subtitle column\n",
    "clean_df['Author'] = df['Subtitle'].str.extract(r'^([A-Za-z0-9\\s\\'\\-]+)(?=\\s*\\()')\n",
    "\n",
    "clean_df['Location'] = clean_df['Subtitle'].str.extract(r'\\((.*?)\\)')\n",
    "\n",
    "clean_df['Date Posted'] = clean_df['Subtitle'].str.extract(r'\\)\\s*(.*)$')"
   ]
  },
  {
   "cell_type": "code",
   "execution_count": 176,
   "id": "43d24350",
   "metadata": {},
   "outputs": [],
   "source": [
    "# Split the trip verified and review content\n",
    "clean_df[['Trip Verified', 'Review']] = clean_df['Content'].str.split('|', expand=True)"
   ]
  },
  {
   "cell_type": "code",
   "execution_count": 177,
   "id": "8cd967cf",
   "metadata": {},
   "outputs": [],
   "source": [
    "# Remove unwanted characters and spaces from the Trip Verified and Review columns\n",
    "clean_df['Trip Verified'] = clean_df['Trip Verified'].str.replace(r'^\\W+', '', regex=True).str.strip()\n",
    "clean_df['Review'] = clean_df['Review'].str.strip()"
   ]
  },
  {
   "cell_type": "code",
   "execution_count": 178,
   "id": "978d3d5e",
   "metadata": {},
   "outputs": [],
   "source": [
    "# Remove unwanted columns (Subtitle and content) from the Review column\n",
    "clean_df.drop(columns=[\"Subtitle\", \"Content\"], inplace=True)"
   ]
  },
  {
   "cell_type": "code",
   "execution_count": 179,
   "id": "97d5ea47",
   "metadata": {},
   "outputs": [],
   "source": [
    "##Reorder the columns\n",
    "clean_df = clean_df[[\"Title\", \"Author\", \"Location\", \"Date Posted\", \"Trip Verified\", \"Review\", \"Seat Type\", \"Aircraft\", \"Type of Traveller\", \"Route\", \"Recommendation\", \"Date Flown\", \"Seat Comfort\", \"Cabin Staff Service\", \"Food and Beverage\", \"Value for Money\", \"Inflight Entertainment\", \"Ground Service\", \"Wifi and Connectivity\"]]"
   ]
  },
  {
   "cell_type": "code",
   "execution_count": 180,
   "id": "b5c46317",
   "metadata": {},
   "outputs": [],
   "source": [
    "# Remove unwanted characters and spaces from the Author column\n",
    "clean_df['Author'] = clean_df['Author'].str.replace(r'^\\d+\\s+reviews\\s*', '', regex=True)\n",
    "clean_df['Author'] = clean_df['Author'].str.replace(r'\\s+', ' ', regex=True).str.strip()\n"
   ]
  },
  {
   "cell_type": "code",
   "execution_count": 181,
   "id": "4f2f2287",
   "metadata": {},
   "outputs": [],
   "source": [
    "# Move the Trip Verified value to the Review column if the Review column is empty and the actual review is in the trip verified column\n",
    "trip_verified_values = ['Trip Verified', 'Not Verified']\n",
    "\n",
    "mask = ~clean_df['Trip Verified'].isin(trip_verified_values)\n",
    "clean_df.loc[mask & (clean_df['Review'].str.strip() == ''), 'Review'] = clean_df.loc[mask, 'Trip Verified']\n",
    "clean_df.loc[mask, 'Trip Verified'] = ''"
   ]
  },
  {
   "cell_type": "code",
   "execution_count": 182,
   "id": "77884982",
   "metadata": {},
   "outputs": [],
   "source": [
    "# Remove the suffixes in the dates\n",
    "clean_df['Date Posted'] = clean_df['Date Posted'].str.replace(r'(\\d{1,2})(st|nd|rd|th)', r'\\1', regex=True)"
   ]
  },
  {
   "cell_type": "code",
   "execution_count": 186,
   "id": "f1d53a26",
   "metadata": {},
   "outputs": [],
   "source": [
    "clean_df.to_csv(\"clean_british_airways_reviews.csv\", index=False, encoding=\"utf-8-sig\")"
   ]
  },
  {
   "cell_type": "code",
   "execution_count": 196,
   "id": "a1beb7ac",
   "metadata": {},
   "outputs": [
    {
     "data": {
      "text/html": [
       "<div>\n",
       "<style scoped>\n",
       "    .dataframe tbody tr th:only-of-type {\n",
       "        vertical-align: middle;\n",
       "    }\n",
       "\n",
       "    .dataframe tbody tr th {\n",
       "        vertical-align: top;\n",
       "    }\n",
       "\n",
       "    .dataframe thead th {\n",
       "        text-align: right;\n",
       "    }\n",
       "</style>\n",
       "<table border=\"1\" class=\"dataframe\">\n",
       "  <thead>\n",
       "    <tr style=\"text-align: right;\">\n",
       "      <th></th>\n",
       "      <th>Title</th>\n",
       "      <th>Author</th>\n",
       "      <th>Location</th>\n",
       "      <th>Date Posted</th>\n",
       "      <th>Trip Verified</th>\n",
       "      <th>Review</th>\n",
       "      <th>Seat Type</th>\n",
       "      <th>Aircraft</th>\n",
       "      <th>Type of Traveller</th>\n",
       "      <th>Route</th>\n",
       "      <th>Recommendation</th>\n",
       "      <th>Date Flown</th>\n",
       "      <th>Seat Comfort</th>\n",
       "      <th>Cabin Staff Service</th>\n",
       "      <th>Food and Beverage</th>\n",
       "      <th>Value for Money</th>\n",
       "      <th>Inflight Entertainment</th>\n",
       "      <th>Ground Service</th>\n",
       "      <th>Wifi and Connectivity</th>\n",
       "    </tr>\n",
       "  </thead>\n",
       "  <tbody>\n",
       "    <tr>\n",
       "      <th>0</th>\n",
       "      <td>Horrendous Service</td>\n",
       "      <td>R Heale</td>\n",
       "      <td>South Africa</td>\n",
       "      <td>2025-04-29</td>\n",
       "      <td>Trip Verified</td>\n",
       "      <td>I had an appalling experience with British Air...</td>\n",
       "      <td>Economy Class</td>\n",
       "      <td>A380</td>\n",
       "      <td>Solo Leisure</td>\n",
       "      <td>True</td>\n",
       "      <td>no</td>\n",
       "      <td>April 2025</td>\n",
       "      <td>1.0</td>\n",
       "      <td>1.0</td>\n",
       "      <td>NaN</td>\n",
       "      <td>1</td>\n",
       "      <td>NaN</td>\n",
       "      <td>1.0</td>\n",
       "      <td>NaN</td>\n",
       "    </tr>\n",
       "  </tbody>\n",
       "</table>\n",
       "</div>"
      ],
      "text/plain": [
       "                Title   Author      Location Date Posted  Trip Verified  \\\n",
       "0  Horrendous Service  R Heale  South Africa  2025-04-29  Trip Verified   \n",
       "\n",
       "                                              Review      Seat Type Aircraft  \\\n",
       "0  I had an appalling experience with British Air...  Economy Class     A380   \n",
       "\n",
       "  Type of Traveller  Route Recommendation  Date Flown  Seat Comfort  \\\n",
       "0      Solo Leisure   True             no  April 2025           1.0   \n",
       "\n",
       "   Cabin Staff Service  Food and Beverage  Value for Money  \\\n",
       "0                  1.0                NaN                1   \n",
       "\n",
       "   Inflight Entertainment  Ground Service  Wifi and Connectivity  \n",
       "0                     NaN             1.0                    NaN  "
      ]
     },
     "execution_count": 196,
     "metadata": {},
     "output_type": "execute_result"
    }
   ],
   "source": [
    "reviews_data = pd.read_csv(\"clean_british_airways_reviews.csv\", encoding=\"utf-8-sig\")\n",
    "reviews_data.head(1)"
   ]
  },
  {
   "cell_type": "code",
   "execution_count": 215,
   "id": "a318ff20",
   "metadata": {},
   "outputs": [],
   "source": [
    "# Merged the title and review columns together to create a full review column. This will help in the sentiment analysis process.\n",
    "# Reason: Some reviews are empty and the title column contains the actual review. So, we need to merge them together to create a full review column.\n",
    "reviews_data[\"Full Review\"] = reviews_data[\"Title\"].str.cat(reviews_data[\"Review\"], sep=\" . \", na_rep=\"\")"
   ]
  },
  {
   "cell_type": "markdown",
   "id": "156582e7",
   "metadata": {},
   "source": [
    "### Sentiment Analysis \n",
    "Using VADER\n",
    "\n",
    "* a positive sentiment, compound ≥ 0.05.\n",
    "* a negative sentiment, compound ≤ -0.05.\n",
    "* a neutral sentiment, the compound is > -0.05 and < 0.05 "
   ]
  },
  {
   "cell_type": "code",
   "execution_count": 220,
   "id": "057923f5",
   "metadata": {},
   "outputs": [
    {
     "name": "stderr",
     "output_type": "stream",
     "text": [
      "[nltk_data] Downloading package vader_lexicon to C:\\Users\\Dell\n",
      "[nltk_data]     PC\\AppData\\Roaming\\nltk_data...\n",
      "[nltk_data]   Package vader_lexicon is already up-to-date!\n"
     ]
    },
    {
     "data": {
      "text/plain": [
       "True"
      ]
     },
     "execution_count": 220,
     "metadata": {},
     "output_type": "execute_result"
    }
   ],
   "source": [
    "import nltk\n",
    "nltk.download('vader_lexicon')"
   ]
  },
  {
   "cell_type": "code",
   "execution_count": 222,
   "id": "12a00d3d",
   "metadata": {},
   "outputs": [],
   "source": [
    "from nltk.sentiment.vader import SentimentIntensityAnalyzer\n",
    "\n",
    "analyzer = SentimentIntensityAnalyzer()"
   ]
  },
  {
   "cell_type": "code",
   "execution_count": 230,
   "id": "7430442e",
   "metadata": {},
   "outputs": [],
   "source": [
    "for index,row in reviews_data.iterrows():\n",
    "    text = row['Full Review']\n",
    "    scores = analyzer.polarity_scores(text)\n",
    "    \n",
    "    reviews_data.at[index, 'Compound'] = scores['compound']\n",
    "    \n",
    "    if scores['compound'] >= 0.05:\n",
    "        reviews_data.at[index, 'Sentiment'] = 'positive'\n",
    "    elif scores['compound'] <= -0.05:\n",
    "        reviews_data.at[index, 'Sentiment'] = 'negative'\n",
    "    else:\n",
    "        reviews_data.at[index, 'Sentiment'] = 'neutral'\n"
   ]
  }
 ],
 "metadata": {
  "kernelspec": {
   "display_name": "venv",
   "language": "python",
   "name": "python3"
  },
  "language_info": {
   "codemirror_mode": {
    "name": "ipython",
    "version": 3
   },
   "file_extension": ".py",
   "mimetype": "text/x-python",
   "name": "python",
   "nbconvert_exporter": "python",
   "pygments_lexer": "ipython3",
   "version": "3.12.3"
  }
 },
 "nbformat": 4,
 "nbformat_minor": 5
}
